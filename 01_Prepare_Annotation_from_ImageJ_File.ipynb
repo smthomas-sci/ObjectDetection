{
 "cells": [
  {
   "cell_type": "code",
   "execution_count": 1,
   "metadata": {},
   "outputs": [],
   "source": [
    "import numpy as np\n",
    "import time\n",
    "import sys\n",
    "import os\n",
    "import random\n",
    "from skimage import io\n",
    "import pandas as pd\n",
    "from matplotlib import pyplot as plt\n",
    "from matplotlib.patches import Rectangle as BBox"
   ]
  },
  {
   "cell_type": "markdown",
   "metadata": {},
   "source": [
    "The first thing to do is prepare the images and labels."
   ]
  },
  {
   "cell_type": "code",
   "execution_count": 82,
   "metadata": {},
   "outputs": [],
   "source": [
    "anno_path = \"/home/simon/PycharmProjects/ObjectDetection/data/Rotated/train/annotations/\"\n",
    "image_path = \"/home/simon/PycharmProjects/ObjectDetection/data/Rotated/train/images/\""
   ]
  },
  {
   "cell_type": "code",
   "execution_count": 83,
   "metadata": {},
   "outputs": [
    {
     "data": {
      "text/html": [
       "<div>\n",
       "<style scoped>\n",
       "    .dataframe tbody tr th:only-of-type {\n",
       "        vertical-align: middle;\n",
       "    }\n",
       "\n",
       "    .dataframe tbody tr th {\n",
       "        vertical-align: top;\n",
       "    }\n",
       "\n",
       "    .dataframe thead th {\n",
       "        text-align: right;\n",
       "    }\n",
       "</style>\n",
       "<table border=\"1\" class=\"dataframe\">\n",
       "  <thead>\n",
       "    <tr style=\"text-align: right;\">\n",
       "      <th></th>\n",
       "      <th></th>\n",
       "      <th>Label</th>\n",
       "      <th>BX</th>\n",
       "      <th>BY</th>\n",
       "      <th>Width</th>\n",
       "      <th>Height</th>\n",
       "    </tr>\n",
       "  </thead>\n",
       "  <tbody>\n",
       "    <tr>\n",
       "      <th>0</th>\n",
       "      <td>1</td>\n",
       "      <td>BCC_1.png</td>\n",
       "      <td>78</td>\n",
       "      <td>88</td>\n",
       "      <td>6</td>\n",
       "      <td>7</td>\n",
       "    </tr>\n",
       "    <tr>\n",
       "      <th>1</th>\n",
       "      <td>2</td>\n",
       "      <td>BCC_1.png</td>\n",
       "      <td>194</td>\n",
       "      <td>100</td>\n",
       "      <td>8</td>\n",
       "      <td>7</td>\n",
       "    </tr>\n",
       "    <tr>\n",
       "      <th>2</th>\n",
       "      <td>3</td>\n",
       "      <td>BCC_10.png</td>\n",
       "      <td>35</td>\n",
       "      <td>103</td>\n",
       "      <td>8</td>\n",
       "      <td>8</td>\n",
       "    </tr>\n",
       "    <tr>\n",
       "      <th>3</th>\n",
       "      <td>4</td>\n",
       "      <td>BCC_10.png</td>\n",
       "      <td>225</td>\n",
       "      <td>100</td>\n",
       "      <td>6</td>\n",
       "      <td>8</td>\n",
       "    </tr>\n",
       "    <tr>\n",
       "      <th>4</th>\n",
       "      <td>5</td>\n",
       "      <td>BCC_13.png</td>\n",
       "      <td>50</td>\n",
       "      <td>87</td>\n",
       "      <td>8</td>\n",
       "      <td>8</td>\n",
       "    </tr>\n",
       "  </tbody>\n",
       "</table>\n",
       "</div>"
      ],
      "text/plain": [
       "           Label   BX   BY  Width  Height\n",
       "0  1   BCC_1.png   78   88      6       7\n",
       "1  2   BCC_1.png  194  100      8       7\n",
       "2  3  BCC_10.png   35  103      8       8\n",
       "3  4  BCC_10.png  225  100      6       8\n",
       "4  5  BCC_13.png   50   87      8       8"
      ]
     },
     "execution_count": 83,
     "metadata": {},
     "output_type": "execute_result"
    }
   ],
   "source": [
    "data = pd.read_csv(os.path.join(anno_path, \"10x_raw_train.csv\"))\n",
    "data.head()"
   ]
  },
  {
   "cell_type": "code",
   "execution_count": 84,
   "metadata": {},
   "outputs": [],
   "source": [
    "# Drop first column\n",
    "data = data.drop(\" \", axis=1)"
   ]
  },
  {
   "cell_type": "code",
   "execution_count": 85,
   "metadata": {},
   "outputs": [
    {
     "data": {
      "text/html": [
       "<div>\n",
       "<style scoped>\n",
       "    .dataframe tbody tr th:only-of-type {\n",
       "        vertical-align: middle;\n",
       "    }\n",
       "\n",
       "    .dataframe tbody tr th {\n",
       "        vertical-align: top;\n",
       "    }\n",
       "\n",
       "    .dataframe thead th {\n",
       "        text-align: right;\n",
       "    }\n",
       "</style>\n",
       "<table border=\"1\" class=\"dataframe\">\n",
       "  <thead>\n",
       "    <tr style=\"text-align: right;\">\n",
       "      <th></th>\n",
       "      <th>Label</th>\n",
       "      <th>BX</th>\n",
       "      <th>BY</th>\n",
       "      <th>Width</th>\n",
       "      <th>Height</th>\n",
       "    </tr>\n",
       "  </thead>\n",
       "  <tbody>\n",
       "    <tr>\n",
       "      <th>0</th>\n",
       "      <td>BCC_1.png</td>\n",
       "      <td>78</td>\n",
       "      <td>88</td>\n",
       "      <td>6</td>\n",
       "      <td>7</td>\n",
       "    </tr>\n",
       "    <tr>\n",
       "      <th>1</th>\n",
       "      <td>BCC_1.png</td>\n",
       "      <td>194</td>\n",
       "      <td>100</td>\n",
       "      <td>8</td>\n",
       "      <td>7</td>\n",
       "    </tr>\n",
       "    <tr>\n",
       "      <th>2</th>\n",
       "      <td>BCC_10.png</td>\n",
       "      <td>35</td>\n",
       "      <td>103</td>\n",
       "      <td>8</td>\n",
       "      <td>8</td>\n",
       "    </tr>\n",
       "    <tr>\n",
       "      <th>3</th>\n",
       "      <td>BCC_10.png</td>\n",
       "      <td>225</td>\n",
       "      <td>100</td>\n",
       "      <td>6</td>\n",
       "      <td>8</td>\n",
       "    </tr>\n",
       "    <tr>\n",
       "      <th>4</th>\n",
       "      <td>BCC_13.png</td>\n",
       "      <td>50</td>\n",
       "      <td>87</td>\n",
       "      <td>8</td>\n",
       "      <td>8</td>\n",
       "    </tr>\n",
       "  </tbody>\n",
       "</table>\n",
       "</div>"
      ],
      "text/plain": [
       "        Label   BX   BY  Width  Height\n",
       "0   BCC_1.png   78   88      6       7\n",
       "1   BCC_1.png  194  100      8       7\n",
       "2  BCC_10.png   35  103      8       8\n",
       "3  BCC_10.png  225  100      6       8\n",
       "4  BCC_13.png   50   87      8       8"
      ]
     },
     "execution_count": 85,
     "metadata": {},
     "output_type": "execute_result"
    }
   ],
   "source": [
    "data.head()"
   ]
  },
  {
   "cell_type": "markdown",
   "metadata": {},
   "source": [
    "Now we want to make all of Width and Height = 10 so that they are standard size.\n"
   ]
  },
  {
   "cell_type": "code",
   "execution_count": 86,
   "metadata": {},
   "outputs": [],
   "source": [
    "data[\"Width\"] = [10]*108\n",
    "data[\"Height\"] = [10]*108"
   ]
  },
  {
   "cell_type": "code",
   "execution_count": 87,
   "metadata": {},
   "outputs": [
    {
     "data": {
      "text/html": [
       "<div>\n",
       "<style scoped>\n",
       "    .dataframe tbody tr th:only-of-type {\n",
       "        vertical-align: middle;\n",
       "    }\n",
       "\n",
       "    .dataframe tbody tr th {\n",
       "        vertical-align: top;\n",
       "    }\n",
       "\n",
       "    .dataframe thead th {\n",
       "        text-align: right;\n",
       "    }\n",
       "</style>\n",
       "<table border=\"1\" class=\"dataframe\">\n",
       "  <thead>\n",
       "    <tr style=\"text-align: right;\">\n",
       "      <th></th>\n",
       "      <th>Label</th>\n",
       "      <th>BX</th>\n",
       "      <th>BY</th>\n",
       "      <th>Width</th>\n",
       "      <th>Height</th>\n",
       "    </tr>\n",
       "  </thead>\n",
       "  <tbody>\n",
       "    <tr>\n",
       "      <th>0</th>\n",
       "      <td>BCC_1.png</td>\n",
       "      <td>78</td>\n",
       "      <td>88</td>\n",
       "      <td>10</td>\n",
       "      <td>10</td>\n",
       "    </tr>\n",
       "    <tr>\n",
       "      <th>1</th>\n",
       "      <td>BCC_1.png</td>\n",
       "      <td>194</td>\n",
       "      <td>100</td>\n",
       "      <td>10</td>\n",
       "      <td>10</td>\n",
       "    </tr>\n",
       "    <tr>\n",
       "      <th>2</th>\n",
       "      <td>BCC_10.png</td>\n",
       "      <td>35</td>\n",
       "      <td>103</td>\n",
       "      <td>10</td>\n",
       "      <td>10</td>\n",
       "    </tr>\n",
       "    <tr>\n",
       "      <th>3</th>\n",
       "      <td>BCC_10.png</td>\n",
       "      <td>225</td>\n",
       "      <td>100</td>\n",
       "      <td>10</td>\n",
       "      <td>10</td>\n",
       "    </tr>\n",
       "    <tr>\n",
       "      <th>4</th>\n",
       "      <td>BCC_13.png</td>\n",
       "      <td>50</td>\n",
       "      <td>87</td>\n",
       "      <td>10</td>\n",
       "      <td>10</td>\n",
       "    </tr>\n",
       "  </tbody>\n",
       "</table>\n",
       "</div>"
      ],
      "text/plain": [
       "        Label   BX   BY  Width  Height\n",
       "0   BCC_1.png   78   88     10      10\n",
       "1   BCC_1.png  194  100     10      10\n",
       "2  BCC_10.png   35  103     10      10\n",
       "3  BCC_10.png  225  100     10      10\n",
       "4  BCC_13.png   50   87     10      10"
      ]
     },
     "execution_count": 87,
     "metadata": {},
     "output_type": "execute_result"
    }
   ],
   "source": [
    "data.head()"
   ]
  },
  {
   "cell_type": "markdown",
   "metadata": {},
   "source": [
    "Now we have to add the values of width and height to their respective x and y values, so we get the top left and bottom right corners of the bounding boxes."
   ]
  },
  {
   "cell_type": "code",
   "execution_count": 88,
   "metadata": {},
   "outputs": [],
   "source": [
    "data[\"Width\"] = data[\"Width\"] + data[\"BX\"]\n",
    "data[\"Height\"] = data[\"Height\"] + data[\"BY\"]"
   ]
  },
  {
   "cell_type": "code",
   "execution_count": 89,
   "metadata": {},
   "outputs": [
    {
     "data": {
      "text/html": [
       "<div>\n",
       "<style scoped>\n",
       "    .dataframe tbody tr th:only-of-type {\n",
       "        vertical-align: middle;\n",
       "    }\n",
       "\n",
       "    .dataframe tbody tr th {\n",
       "        vertical-align: top;\n",
       "    }\n",
       "\n",
       "    .dataframe thead th {\n",
       "        text-align: right;\n",
       "    }\n",
       "</style>\n",
       "<table border=\"1\" class=\"dataframe\">\n",
       "  <thead>\n",
       "    <tr style=\"text-align: right;\">\n",
       "      <th></th>\n",
       "      <th>Label</th>\n",
       "      <th>BX</th>\n",
       "      <th>BY</th>\n",
       "      <th>Width</th>\n",
       "      <th>Height</th>\n",
       "    </tr>\n",
       "  </thead>\n",
       "  <tbody>\n",
       "    <tr>\n",
       "      <th>0</th>\n",
       "      <td>BCC_1.png</td>\n",
       "      <td>78</td>\n",
       "      <td>88</td>\n",
       "      <td>88</td>\n",
       "      <td>98</td>\n",
       "    </tr>\n",
       "    <tr>\n",
       "      <th>1</th>\n",
       "      <td>BCC_1.png</td>\n",
       "      <td>194</td>\n",
       "      <td>100</td>\n",
       "      <td>204</td>\n",
       "      <td>110</td>\n",
       "    </tr>\n",
       "    <tr>\n",
       "      <th>2</th>\n",
       "      <td>BCC_10.png</td>\n",
       "      <td>35</td>\n",
       "      <td>103</td>\n",
       "      <td>45</td>\n",
       "      <td>113</td>\n",
       "    </tr>\n",
       "    <tr>\n",
       "      <th>3</th>\n",
       "      <td>BCC_10.png</td>\n",
       "      <td>225</td>\n",
       "      <td>100</td>\n",
       "      <td>235</td>\n",
       "      <td>110</td>\n",
       "    </tr>\n",
       "    <tr>\n",
       "      <th>4</th>\n",
       "      <td>BCC_13.png</td>\n",
       "      <td>50</td>\n",
       "      <td>87</td>\n",
       "      <td>60</td>\n",
       "      <td>97</td>\n",
       "    </tr>\n",
       "  </tbody>\n",
       "</table>\n",
       "</div>"
      ],
      "text/plain": [
       "        Label   BX   BY  Width  Height\n",
       "0   BCC_1.png   78   88     88      98\n",
       "1   BCC_1.png  194  100    204     110\n",
       "2  BCC_10.png   35  103     45     113\n",
       "3  BCC_10.png  225  100    235     110\n",
       "4  BCC_13.png   50   87     60      97"
      ]
     },
     "execution_count": 89,
     "metadata": {},
     "output_type": "execute_result"
    }
   ],
   "source": [
    "data.head()"
   ]
  },
  {
   "cell_type": "markdown",
   "metadata": {},
   "source": [
    "Now we want to standardise them to the image size, which in this case is 256px. This should then make them work for all sizes of the image that were re-orientated in the same way e.g. relative padding, squareness etc."
   ]
  },
  {
   "cell_type": "code",
   "execution_count": 90,
   "metadata": {},
   "outputs": [],
   "source": [
    "#data[\"BX\"] /= 256\n",
    "#data[\"BY\"] /= 256\n",
    "#data[\"Width\"] /= 256\n",
    "#data[\"Height\"] /= 256"
   ]
  },
  {
   "cell_type": "code",
   "execution_count": 92,
   "metadata": {},
   "outputs": [],
   "source": [
    "#data.head()"
   ]
  },
  {
   "cell_type": "markdown",
   "metadata": {},
   "source": [
    "Next we want to Add the `ClassName` column on the end."
   ]
  },
  {
   "cell_type": "code",
   "execution_count": 93,
   "metadata": {},
   "outputs": [
    {
     "data": {
      "text/html": [
       "<div>\n",
       "<style scoped>\n",
       "    .dataframe tbody tr th:only-of-type {\n",
       "        vertical-align: middle;\n",
       "    }\n",
       "\n",
       "    .dataframe tbody tr th {\n",
       "        vertical-align: top;\n",
       "    }\n",
       "\n",
       "    .dataframe thead th {\n",
       "        text-align: right;\n",
       "    }\n",
       "</style>\n",
       "<table border=\"1\" class=\"dataframe\">\n",
       "  <thead>\n",
       "    <tr style=\"text-align: right;\">\n",
       "      <th></th>\n",
       "      <th>Label</th>\n",
       "      <th>BX</th>\n",
       "      <th>BY</th>\n",
       "      <th>Width</th>\n",
       "      <th>Height</th>\n",
       "      <th>ClassName</th>\n",
       "    </tr>\n",
       "  </thead>\n",
       "  <tbody>\n",
       "    <tr>\n",
       "      <th>0</th>\n",
       "      <td>BCC_1.png</td>\n",
       "      <td>78</td>\n",
       "      <td>88</td>\n",
       "      <td>88</td>\n",
       "      <td>98</td>\n",
       "      <td>Margin</td>\n",
       "    </tr>\n",
       "    <tr>\n",
       "      <th>1</th>\n",
       "      <td>BCC_1.png</td>\n",
       "      <td>194</td>\n",
       "      <td>100</td>\n",
       "      <td>204</td>\n",
       "      <td>110</td>\n",
       "      <td>Margin</td>\n",
       "    </tr>\n",
       "    <tr>\n",
       "      <th>2</th>\n",
       "      <td>BCC_10.png</td>\n",
       "      <td>35</td>\n",
       "      <td>103</td>\n",
       "      <td>45</td>\n",
       "      <td>113</td>\n",
       "      <td>Margin</td>\n",
       "    </tr>\n",
       "    <tr>\n",
       "      <th>3</th>\n",
       "      <td>BCC_10.png</td>\n",
       "      <td>225</td>\n",
       "      <td>100</td>\n",
       "      <td>235</td>\n",
       "      <td>110</td>\n",
       "      <td>Margin</td>\n",
       "    </tr>\n",
       "    <tr>\n",
       "      <th>4</th>\n",
       "      <td>BCC_13.png</td>\n",
       "      <td>50</td>\n",
       "      <td>87</td>\n",
       "      <td>60</td>\n",
       "      <td>97</td>\n",
       "      <td>Margin</td>\n",
       "    </tr>\n",
       "  </tbody>\n",
       "</table>\n",
       "</div>"
      ],
      "text/plain": [
       "        Label   BX   BY  Width  Height ClassName\n",
       "0   BCC_1.png   78   88     88      98    Margin\n",
       "1   BCC_1.png  194  100    204     110    Margin\n",
       "2  BCC_10.png   35  103     45     113    Margin\n",
       "3  BCC_10.png  225  100    235     110    Margin\n",
       "4  BCC_13.png   50   87     60      97    Margin"
      ]
     },
     "execution_count": 93,
     "metadata": {},
     "output_type": "execute_result"
    }
   ],
   "source": [
    "data[\"ClassName\"] = [\"Margin\", \"Margin\"]*54 # Make them all the same \n",
    "data.head()"
   ]
  },
  {
   "cell_type": "markdown",
   "metadata": {},
   "source": [
    "We must also rename the columns to `FileName\tXMin\tXMax\tYMin\tYMax\tClassName`"
   ]
  },
  {
   "cell_type": "code",
   "execution_count": 94,
   "metadata": {},
   "outputs": [
    {
     "data": {
      "text/html": [
       "<div>\n",
       "<style scoped>\n",
       "    .dataframe tbody tr th:only-of-type {\n",
       "        vertical-align: middle;\n",
       "    }\n",
       "\n",
       "    .dataframe tbody tr th {\n",
       "        vertical-align: top;\n",
       "    }\n",
       "\n",
       "    .dataframe thead th {\n",
       "        text-align: right;\n",
       "    }\n",
       "</style>\n",
       "<table border=\"1\" class=\"dataframe\">\n",
       "  <thead>\n",
       "    <tr style=\"text-align: right;\">\n",
       "      <th></th>\n",
       "      <th>FileName</th>\n",
       "      <th>X1</th>\n",
       "      <th>Y1</th>\n",
       "      <th>X2</th>\n",
       "      <th>Y2</th>\n",
       "      <th>ClassName</th>\n",
       "    </tr>\n",
       "  </thead>\n",
       "  <tbody>\n",
       "    <tr>\n",
       "      <th>0</th>\n",
       "      <td>BCC_1.png</td>\n",
       "      <td>78</td>\n",
       "      <td>88</td>\n",
       "      <td>88</td>\n",
       "      <td>98</td>\n",
       "      <td>Margin</td>\n",
       "    </tr>\n",
       "    <tr>\n",
       "      <th>1</th>\n",
       "      <td>BCC_1.png</td>\n",
       "      <td>194</td>\n",
       "      <td>100</td>\n",
       "      <td>204</td>\n",
       "      <td>110</td>\n",
       "      <td>Margin</td>\n",
       "    </tr>\n",
       "    <tr>\n",
       "      <th>2</th>\n",
       "      <td>BCC_10.png</td>\n",
       "      <td>35</td>\n",
       "      <td>103</td>\n",
       "      <td>45</td>\n",
       "      <td>113</td>\n",
       "      <td>Margin</td>\n",
       "    </tr>\n",
       "    <tr>\n",
       "      <th>3</th>\n",
       "      <td>BCC_10.png</td>\n",
       "      <td>225</td>\n",
       "      <td>100</td>\n",
       "      <td>235</td>\n",
       "      <td>110</td>\n",
       "      <td>Margin</td>\n",
       "    </tr>\n",
       "    <tr>\n",
       "      <th>4</th>\n",
       "      <td>BCC_13.png</td>\n",
       "      <td>50</td>\n",
       "      <td>87</td>\n",
       "      <td>60</td>\n",
       "      <td>97</td>\n",
       "      <td>Margin</td>\n",
       "    </tr>\n",
       "  </tbody>\n",
       "</table>\n",
       "</div>"
      ],
      "text/plain": [
       "     FileName   X1   Y1   X2   Y2 ClassName\n",
       "0   BCC_1.png   78   88   88   98    Margin\n",
       "1   BCC_1.png  194  100  204  110    Margin\n",
       "2  BCC_10.png   35  103   45  113    Margin\n",
       "3  BCC_10.png  225  100  235  110    Margin\n",
       "4  BCC_13.png   50   87   60   97    Margin"
      ]
     },
     "execution_count": 94,
     "metadata": {},
     "output_type": "execute_result"
    }
   ],
   "source": [
    "data.columns = [\"FileName\", \"X1\", \"Y1\", \"X2\", \"Y2\", \"ClassName\"]\n",
    "data.head()"
   ]
  },
  {
   "cell_type": "markdown",
   "metadata": {},
   "source": [
    "Finally we can prepend the directory for where the files live"
   ]
  },
  {
   "cell_type": "code",
   "execution_count": 95,
   "metadata": {},
   "outputs": [],
   "source": [
    "data[\"FileName\"] = image_path  + data[\"FileName\"]"
   ]
  },
  {
   "cell_type": "code",
   "execution_count": 96,
   "metadata": {},
   "outputs": [
    {
     "data": {
      "text/html": [
       "<div>\n",
       "<style scoped>\n",
       "    .dataframe tbody tr th:only-of-type {\n",
       "        vertical-align: middle;\n",
       "    }\n",
       "\n",
       "    .dataframe tbody tr th {\n",
       "        vertical-align: top;\n",
       "    }\n",
       "\n",
       "    .dataframe thead th {\n",
       "        text-align: right;\n",
       "    }\n",
       "</style>\n",
       "<table border=\"1\" class=\"dataframe\">\n",
       "  <thead>\n",
       "    <tr style=\"text-align: right;\">\n",
       "      <th></th>\n",
       "      <th>FileName</th>\n",
       "      <th>X1</th>\n",
       "      <th>Y1</th>\n",
       "      <th>X2</th>\n",
       "      <th>Y2</th>\n",
       "      <th>ClassName</th>\n",
       "    </tr>\n",
       "  </thead>\n",
       "  <tbody>\n",
       "    <tr>\n",
       "      <th>0</th>\n",
       "      <td>/home/simon/PycharmProjects/ObjectDetection/da...</td>\n",
       "      <td>78</td>\n",
       "      <td>88</td>\n",
       "      <td>88</td>\n",
       "      <td>98</td>\n",
       "      <td>Margin</td>\n",
       "    </tr>\n",
       "    <tr>\n",
       "      <th>1</th>\n",
       "      <td>/home/simon/PycharmProjects/ObjectDetection/da...</td>\n",
       "      <td>194</td>\n",
       "      <td>100</td>\n",
       "      <td>204</td>\n",
       "      <td>110</td>\n",
       "      <td>Margin</td>\n",
       "    </tr>\n",
       "    <tr>\n",
       "      <th>2</th>\n",
       "      <td>/home/simon/PycharmProjects/ObjectDetection/da...</td>\n",
       "      <td>35</td>\n",
       "      <td>103</td>\n",
       "      <td>45</td>\n",
       "      <td>113</td>\n",
       "      <td>Margin</td>\n",
       "    </tr>\n",
       "    <tr>\n",
       "      <th>3</th>\n",
       "      <td>/home/simon/PycharmProjects/ObjectDetection/da...</td>\n",
       "      <td>225</td>\n",
       "      <td>100</td>\n",
       "      <td>235</td>\n",
       "      <td>110</td>\n",
       "      <td>Margin</td>\n",
       "    </tr>\n",
       "    <tr>\n",
       "      <th>4</th>\n",
       "      <td>/home/simon/PycharmProjects/ObjectDetection/da...</td>\n",
       "      <td>50</td>\n",
       "      <td>87</td>\n",
       "      <td>60</td>\n",
       "      <td>97</td>\n",
       "      <td>Margin</td>\n",
       "    </tr>\n",
       "  </tbody>\n",
       "</table>\n",
       "</div>"
      ],
      "text/plain": [
       "                                            FileName   X1   Y1   X2   Y2  \\\n",
       "0  /home/simon/PycharmProjects/ObjectDetection/da...   78   88   88   98   \n",
       "1  /home/simon/PycharmProjects/ObjectDetection/da...  194  100  204  110   \n",
       "2  /home/simon/PycharmProjects/ObjectDetection/da...   35  103   45  113   \n",
       "3  /home/simon/PycharmProjects/ObjectDetection/da...  225  100  235  110   \n",
       "4  /home/simon/PycharmProjects/ObjectDetection/da...   50   87   60   97   \n",
       "\n",
       "  ClassName  \n",
       "0    Margin  \n",
       "1    Margin  \n",
       "2    Margin  \n",
       "3    Margin  \n",
       "4    Margin  "
      ]
     },
     "execution_count": 96,
     "metadata": {},
     "output_type": "execute_result"
    }
   ],
   "source": [
    "data.head()"
   ]
  },
  {
   "cell_type": "markdown",
   "metadata": {},
   "source": [
    "Of course, we want to save it!"
   ]
  },
  {
   "cell_type": "code",
   "execution_count": 97,
   "metadata": {},
   "outputs": [],
   "source": [
    "fname = os.path.join(anno_path, \"train.csv\")\n",
    "data.to_csv(fname, index=None)"
   ]
  },
  {
   "cell_type": "markdown",
   "metadata": {},
   "source": [
    "Finally, we can show a bounding box"
   ]
  },
  {
   "cell_type": "code",
   "execution_count": 98,
   "metadata": {},
   "outputs": [],
   "source": [
    "img = io.imread(data[\"FileName\"][0])"
   ]
  },
  {
   "cell_type": "code",
   "execution_count": 99,
   "metadata": {},
   "outputs": [],
   "source": [
    "# West\n",
    "x = data[\"X1\"][0] #* 256\n",
    "y = data[\"Y1\"][0] #* 256\n",
    "width = (data[\"X2\"][0] - data[\"X1\"][0]) #* 256\n",
    "height = (data[\"Y2\"][0] - data[\"Y1\"][0]) #* 256\n",
    "bbox1 = BBox((x, y), width, height, linewidth=1,edgecolor='green',facecolor='none', label=\"West\")\n",
    "\n",
    "# East\n",
    "x = data[\"X1\"][1] #* 256\n",
    "y = data[\"Y1\"][1] #* 256\n",
    "width = (data[\"X2\"][1] - data[\"X1\"][1]) #* 256\n",
    "height = (data[\"Y2\"][1] - data[\"Y1\"][1]) #* 256\n",
    "bbox2 = BBox((x, y), width, height, linewidth=1, edgecolor='red',facecolor='none', label=\"East\")"
   ]
  },
  {
   "cell_type": "code",
   "execution_count": 100,
   "metadata": {},
   "outputs": [
    {
     "data": {
      "image/png": "[encoded data removed]",
      "text/plain": [
       "<Figure size 288x288 with 1 Axes>"
      ]
     },
     "metadata": {
      "needs_background": "light"
     },
     "output_type": "display_data"
    }
   ],
   "source": [
    "fig,ax = plt.subplots(1,1,  figsize=(4,4))\n",
    "ax.imshow(img)\n",
    "ax.add_patch(bbox1)\n",
    "ax.add_patch(bbox2)\n",
    "plt.legend()\n",
    "plt.show()"
   ]
  },
  {
   "cell_type": "code",
   "execution_count": null,
   "metadata": {},
   "outputs": [],
   "source": []
  },
  {
   "cell_type": "code",
   "execution_count": null,
   "metadata": {},
   "outputs": [],
   "source": []
  }
 ],
 "metadata": {
  "kernelspec": {
   "display_name": "Python 3",
   "language": "python",
   "name": "python3"
  },
  "language_info": {
   "codemirror_mode": {
    "name": "ipython",
    "version": 3
   },
   "file_extension": ".py",
   "mimetype": "text/x-python",
   "name": "python",
   "nbconvert_exporter": "python",
   "pygments_lexer": "ipython3",
   "version": "3.6.8"
  }
 },
 "nbformat": 4,
 "nbformat_minor": 2
}
